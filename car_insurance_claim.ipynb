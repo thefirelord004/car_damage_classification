{
 "cells": [
  {
   "cell_type": "code",
   "execution_count": null,
   "id": "7e9d5f8c",
   "metadata": {
    "vscode": {
     "languageId": "plaintext"
    }
   },
   "outputs": [],
   "source": [
    "import pandas as pd\n",
    "import numpy as np\n",
    "from sklearn.model_selection import train_test_split\n",
    "from sklearn.preprocessing import LabelEncoder\n",
    "from sklearn.metrics import mean_squared_error, accuracy_score, classification_report\n",
    "from sklearn.ensemble import RandomForestClassifier\n",
    "from xgboost import XGBRegressor\n",
    "\n",
    "# Load dataset\n",
    "df = pd.read_csv(\"car_insurance_claim.csv\")\n",
    "data = df.drop(['ID', 'BIRTH'], axis=1)\n",
    "\n",
    "# Clean currency fields\n",
    "currency_cols = ['INCOME', 'HOME_VAL', 'BLUEBOOK', 'OLDCLAIM', 'CLM_AMT']\n",
    "for col in currency_cols:\n",
    "    data[col] = data[col].replace('[\\$,]', '', regex=True).replace('', np.nan).astype(float)\n",
    "\n",
    "# Fill missing values\n",
    "data.fillna(data.median(numeric_only=True), inplace=True)\n",
    "\n",
    "# Encode categoricals\n",
    "cat_cols = data.select_dtypes(include='object').columns\n",
    "for col in cat_cols:\n",
    "    le = LabelEncoder()\n",
    "    data[col] = le.fit_transform(data[col].astype(str))\n",
    "\n",
    "# -------------------------\n",
    "# 1. Claim Amount Prediction (XGBoost Regression)\n",
    "# -------------------------\n",
    "X_reg = data.drop('CLM_AMT', axis=1)\n",
    "y_reg = data['CLM_AMT']\n",
    "X_train_reg, X_test_reg, y_train_reg, y_test_reg = train_test_split(X_reg, y_reg, test_size=0.2, random_state=0)\n",
    "\n",
    "xgb_model = XGBRegressor(n_estimators=50, max_depth=5, verbosity=0)\n",
    "xgb_model.fit(X_train_reg, y_train_reg)\n",
    "y_pred_reg = xgb_model.predict(X_test_reg)\n",
    "reg_rmse = np.sqrt(mean_squared_error(y_test_reg, y_pred_reg))\n",
    "\n",
    "# -------------------------\n",
    "# 2. Fraud Detection / Claim Approval (Random Forest Classification)\n",
    "# -------------------------\n",
    "X_clf = data.drop('CLAIM_FLAG', axis=1)\n",
    "y_clf = data['CLAIM_FLAG']\n",
    "X_train_clf, X_test_clf, y_train_clf, y_test_clf = train_test_split(X_clf, y_clf, test_size=0.2, random_state=0)\n",
    "\n",
    "rf_model = RandomForestClassifier(n_estimators=100, random_state=0)\n",
    "rf_model.fit(X_train_clf, y_train_clf)\n",
    "y_pred_clf = rf_model.predict(X_test_clf)\n",
    "clf_acc = accuracy_score(y_test_clf, y_pred_clf)\n",
    "clf_report = classification_report(y_test_clf, y_pred_clf)\n",
    "\n",
    "print(\"🔢 Claim Amount Prediction RMSE:\", round(reg_rmse, 2))\n",
    "print(\"✅ Fraud Detection Accuracy:\", round(clf_acc * 100, 2), \"%\")\n",
    "print(\"\\n📊 Classification Report:\\n\", clf_report)\n"
   ]
  }
 ],
 "metadata": {
  "language_info": {
   "name": "python"
  }
 },
 "nbformat": 4,
 "nbformat_minor": 5
}
